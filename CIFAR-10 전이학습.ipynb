{
 "cells": [
  {
   "cell_type": "code",
   "execution_count": 1,
   "id": "8bf93a13",
   "metadata": {},
   "outputs": [],
   "source": [
    "from tensorflow.keras.models import Sequential\n",
    "from tensorflow.keras.layers import Conv2D, MaxPool2D, Dense, Flatten\n",
    "from tensorflow.keras.optimizers import Adam\n",
    "from tensorflow.keras.applications import VGG16\n",
    "import numpy as np\n",
    "from tensorflow.keras.datasets import cifar10"
   ]
  },
  {
   "cell_type": "code",
   "execution_count": 38,
   "id": "b8978c9b",
   "metadata": {},
   "outputs": [],
   "source": [
    "vgg16 = VGG16(weights = 'imagenet', input_shape = (32,32,3), include_top = False)"
   ]
  },
  {
   "cell_type": "code",
   "execution_count": 39,
   "id": "dc5af188",
   "metadata": {},
   "outputs": [
    {
     "name": "stdout",
     "output_type": "stream",
     "text": [
      "Model: \"vgg16\"\n",
      "_________________________________________________________________\n",
      " Layer (type)                Output Shape              Param #   \n",
      "=================================================================\n",
      " input_3 (InputLayer)        [(None, 32, 32, 3)]       0         \n",
      "                                                                 \n",
      " block1_conv1 (Conv2D)       (None, 32, 32, 64)        1792      \n",
      "                                                                 \n",
      " block1_conv2 (Conv2D)       (None, 32, 32, 64)        36928     \n",
      "                                                                 \n",
      " block1_pool (MaxPooling2D)  (None, 16, 16, 64)        0         \n",
      "                                                                 \n",
      " block2_conv1 (Conv2D)       (None, 16, 16, 128)       73856     \n",
      "                                                                 \n",
      " block2_conv2 (Conv2D)       (None, 16, 16, 128)       147584    \n",
      "                                                                 \n",
      " block2_pool (MaxPooling2D)  (None, 8, 8, 128)         0         \n",
      "                                                                 \n",
      " block3_conv1 (Conv2D)       (None, 8, 8, 256)         295168    \n",
      "                                                                 \n",
      " block3_conv2 (Conv2D)       (None, 8, 8, 256)         590080    \n",
      "                                                                 \n",
      " block3_conv3 (Conv2D)       (None, 8, 8, 256)         590080    \n",
      "                                                                 \n",
      " block3_pool (MaxPooling2D)  (None, 4, 4, 256)         0         \n",
      "                                                                 \n",
      " block4_conv1 (Conv2D)       (None, 4, 4, 512)         1180160   \n",
      "                                                                 \n",
      " block4_conv2 (Conv2D)       (None, 4, 4, 512)         2359808   \n",
      "                                                                 \n",
      " block4_conv3 (Conv2D)       (None, 4, 4, 512)         2359808   \n",
      "                                                                 \n",
      " block4_pool (MaxPooling2D)  (None, 2, 2, 512)         0         \n",
      "                                                                 \n",
      " block5_conv1 (Conv2D)       (None, 2, 2, 512)         2359808   \n",
      "                                                                 \n",
      " block5_conv2 (Conv2D)       (None, 2, 2, 512)         2359808   \n",
      "                                                                 \n",
      " block5_conv3 (Conv2D)       (None, 2, 2, 512)         2359808   \n",
      "                                                                 \n",
      " block5_pool (MaxPooling2D)  (None, 1, 1, 512)         0         \n",
      "                                                                 \n",
      "=================================================================\n",
      "Total params: 14,714,688\n",
      "Trainable params: 14,714,688\n",
      "Non-trainable params: 0\n",
      "_________________________________________________________________\n"
     ]
    }
   ],
   "source": [
    "vgg16.summary()"
   ]
  },
  {
   "cell_type": "code",
   "execution_count": 18,
   "id": "8da6874f",
   "metadata": {},
   "outputs": [
    {
     "name": "stdout",
     "output_type": "stream",
     "text": [
      "Model: \"sequential_2\"\n",
      "_________________________________________________________________\n",
      " Layer (type)                Output Shape              Param #   \n",
      "=================================================================\n",
      " vgg16 (Functional)          (None, 1, 1, 512)         14714688  \n",
      "                                                                 \n",
      " flatten_2 (Flatten)         (None, 512)               0         \n",
      "                                                                 \n",
      " dense_4 (Dense)             (None, 256)               131328    \n",
      "                                                                 \n",
      " dense_5 (Dense)             (None, 10)                2570      \n",
      "                                                                 \n",
      "=================================================================\n",
      "Total params: 14,848,586\n",
      "Trainable params: 14,848,586\n",
      "Non-trainable params: 0\n",
      "_________________________________________________________________\n"
     ]
    }
   ],
   "source": [
    "model = Sequential()\n",
    "model.add(vgg16)\n",
    "model.add(Flatten())\n",
    "model.add(Dense(256, activation = 'relu'))\n",
    "model.add(Dense(10, activation = 'softmax'))\n",
    "\n",
    "model.summary()"
   ]
  },
  {
   "cell_type": "code",
   "execution_count": 19,
   "id": "43f0b26e",
   "metadata": {},
   "outputs": [],
   "source": [
    "# 위에 있는 가중치값들은 손대지 말고 True 값들만 재학습시킨다.\n",
    "for layer in vgg16.layers[:-4]:\n",
    "    layer.trainable = False"
   ]
  },
  {
   "cell_type": "code",
   "execution_count": 20,
   "id": "aa06d1a8",
   "metadata": {},
   "outputs": [
    {
     "name": "stdout",
     "output_type": "stream",
     "text": [
      "False\n",
      "False\n",
      "False\n",
      "False\n",
      "False\n",
      "False\n",
      "False\n",
      "False\n",
      "False\n",
      "False\n",
      "False\n",
      "False\n",
      "False\n",
      "False\n",
      "False\n",
      "True\n",
      "True\n",
      "True\n",
      "True\n"
     ]
    }
   ],
   "source": [
    "for layer in vgg16.layers:\n",
    "    print(layer.trainable)"
   ]
  },
  {
   "cell_type": "code",
   "execution_count": 2,
   "id": "5402f8ce",
   "metadata": {},
   "outputs": [],
   "source": [
    "(X_train, y_train), (X_test, y_test) = cifar10.load_data()"
   ]
  },
  {
   "cell_type": "code",
   "execution_count": 3,
   "id": "d80dff11",
   "metadata": {},
   "outputs": [],
   "source": [
    "X_mean = np.mean(X_train, axis = (0, 1, 2)) \n",
    "X_std = np.std(X_train, axis = (0, 1, 2))\n",
    "\n",
    "X_train = (X_train - X_mean) / X_std\n",
    "X_test = (X_test - X_mean) / X_std\n",
    "\n",
    "from sklearn.model_selection import train_test_split\n",
    "X_train, X_val, y_train, y_val = train_test_split(X_train, y_train, test_size = 0.3, random_state = 100)"
   ]
  },
  {
   "cell_type": "code",
   "execution_count": 23,
   "id": "fe9e72a0",
   "metadata": {},
   "outputs": [
    {
     "name": "stdout",
     "output_type": "stream",
     "text": [
      "Epoch 1/30\n",
      "1094/1094 [==============================] - 13s 12ms/step - loss: 0.9165 - acc: 0.6797 - val_loss: 0.7599 - val_acc: 0.7399\n",
      "Epoch 2/30\n",
      "1094/1094 [==============================] - 13s 12ms/step - loss: 0.6285 - acc: 0.7778 - val_loss: 0.6684 - val_acc: 0.7703\n",
      "Epoch 3/30\n",
      "1094/1094 [==============================] - 13s 12ms/step - loss: 0.4845 - acc: 0.8272 - val_loss: 0.6783 - val_acc: 0.7737\n",
      "Epoch 4/30\n",
      "1094/1094 [==============================] - 13s 11ms/step - loss: 0.3522 - acc: 0.8747 - val_loss: 0.6873 - val_acc: 0.7773\n",
      "Epoch 5/30\n",
      "1094/1094 [==============================] - 12s 11ms/step - loss: 0.2405 - acc: 0.9136 - val_loss: 0.8749 - val_acc: 0.7581\n",
      "Epoch 6/30\n",
      "1094/1094 [==============================] - 12s 11ms/step - loss: 0.1710 - acc: 0.9389 - val_loss: 0.8697 - val_acc: 0.7693\n",
      "Epoch 7/30\n",
      "1094/1094 [==============================] - 12s 11ms/step - loss: 0.1143 - acc: 0.9600 - val_loss: 1.0359 - val_acc: 0.7721\n"
     ]
    }
   ],
   "source": [
    "from keras.callbacks import EarlyStopping\n",
    "es = EarlyStopping(monitor = 'val_loss', mode = 'min', patience = 5)\n",
    "model.compile(optimizer = Adam(1e-4), loss = 'sparse_categorical_crossentropy', metrics = ['acc'])\n",
    "history = model.fit(X_train, y_train, epochs = 30, batch_size = 32, validation_data = (X_val, y_val), callbacks = [es])"
   ]
  },
  {
   "cell_type": "code",
   "execution_count": 24,
   "id": "61557055",
   "metadata": {},
   "outputs": [
    {
     "name": "stdout",
     "output_type": "stream",
     "text": [
      "313/313 [==============================] - 2s 7ms/step - loss: 1.0763 - acc: 0.7594\n"
     ]
    },
    {
     "data": {
      "text/plain": [
       "[1.0762615203857422, 0.7594000101089478]"
      ]
     },
     "execution_count": 24,
     "metadata": {},
     "output_type": "execute_result"
    }
   ],
   "source": [
    "model.evaluate(X_test, y_test)"
   ]
  },
  {
   "cell_type": "code",
   "execution_count": 25,
   "id": "f3727534",
   "metadata": {},
   "outputs": [
    {
     "data": {
      "image/png": "[encoded data removed]",
      "text/plain": [
       "<Figure size 640x480 with 1 Axes>"
      ]
     },
     "metadata": {},
     "output_type": "display_data"
    }
   ],
   "source": [
    "import matplotlib.pyplot as plt\n",
    "\n",
    "train_loss = history.history['loss']\n",
    "val_loss = history.history['val_loss']\n",
    "\n",
    "plt.plot(range(1, len(train_loss) + 1), train_loss, color = 'blue', label = 'train_loss')\n",
    "plt.plot(range(1, len(val_loss) + 1), val_loss, color = 'red', label = 'val_loss')\n",
    "plt.legend()\n",
    "plt.show()"
   ]
  },
  {
   "cell_type": "code",
   "execution_count": 29,
   "id": "d73783fd",
   "metadata": {},
   "outputs": [
    {
     "name": "stdout",
     "output_type": "stream",
     "text": [
      "Model: \"sequential_4\"\n",
      "_________________________________________________________________\n",
      " Layer (type)                Output Shape              Param #   \n",
      "=================================================================\n",
      " vgg16 (Functional)          (None, 1, 1, 512)         14714688  \n",
      "                                                                 \n",
      " flatten_4 (Flatten)         (None, 512)               0         \n",
      "                                                                 \n",
      " dense_8 (Dense)             (None, 512)               262656    \n",
      "                                                                 \n",
      " dense_9 (Dense)             (None, 256)               131328    \n",
      "                                                                 \n",
      " dense_10 (Dense)            (None, 10)                2570      \n",
      "                                                                 \n",
      "=================================================================\n",
      "Total params: 15,111,242\n",
      "Trainable params: 15,111,242\n",
      "Non-trainable params: 0\n",
      "_________________________________________________________________\n"
     ]
    }
   ],
   "source": [
    "model_v2 = Sequential()\n",
    "model_v2.add(vgg16)\n",
    "model_v2.add(Flatten())\n",
    "model_v2.add(Dense(512, activation = 'relu'))\n",
    "model_v2.add(Dense(256, activation = 'relu'))\n",
    "model_v2.add(Dense(10, activation = 'softmax'))\n",
    "\n",
    "model_v2.summary()"
   ]
  },
  {
   "cell_type": "code",
   "execution_count": 30,
   "id": "ba9f5fb3",
   "metadata": {},
   "outputs": [
    {
     "name": "stdout",
     "output_type": "stream",
     "text": [
      "Epoch 1/30\n",
      "1094/1094 [==============================] - 25s 22ms/step - loss: 0.6687 - acc: 0.7713 - val_loss: 0.5954 - val_acc: 0.7977\n",
      "Epoch 2/30\n",
      "1094/1094 [==============================] - 23s 21ms/step - loss: 0.3974 - acc: 0.8613 - val_loss: 0.5460 - val_acc: 0.8134\n",
      "Epoch 3/30\n",
      "1094/1094 [==============================] - 24s 22ms/step - loss: 0.2743 - acc: 0.9057 - val_loss: 0.6133 - val_acc: 0.8067\n",
      "Epoch 4/30\n",
      "1094/1094 [==============================] - 24s 22ms/step - loss: 0.2006 - acc: 0.9300 - val_loss: 0.6964 - val_acc: 0.8035\n",
      "Epoch 5/30\n",
      "1094/1094 [==============================] - 24s 22ms/step - loss: 0.1579 - acc: 0.9465 - val_loss: 0.5742 - val_acc: 0.8369\n",
      "Epoch 6/30\n",
      "1094/1094 [==============================] - 24s 22ms/step - loss: 0.1251 - acc: 0.9568 - val_loss: 0.7026 - val_acc: 0.8075\n",
      "Epoch 7/30\n",
      "1094/1094 [==============================] - 24s 22ms/step - loss: 0.1058 - acc: 0.9647 - val_loss: 0.6158 - val_acc: 0.8394\n"
     ]
    }
   ],
   "source": [
    "es = EarlyStopping(monitor = 'val_loss', mode = 'min', patience = 5)\n",
    "model_v2.compile(optimizer = Adam(1e-4), loss = 'sparse_categorical_crossentropy', metrics = ['acc'])\n",
    "history_v2 = model_v2.fit(X_train, y_train, epochs = 30, batch_size = 32, validation_data = (X_val, y_val), callbacks = [es])"
   ]
  },
  {
   "cell_type": "code",
   "execution_count": 31,
   "id": "96147112",
   "metadata": {},
   "outputs": [
    {
     "name": "stdout",
     "output_type": "stream",
     "text": [
      "313/313 [==============================] - 2s 6ms/step - loss: 0.6637 - acc: 0.8352\n"
     ]
    },
    {
     "data": {
      "text/plain": [
       "[0.6637111306190491, 0.8352000117301941]"
      ]
     },
     "execution_count": 31,
     "metadata": {},
     "output_type": "execute_result"
    }
   ],
   "source": [
    "model_v2.evaluate(X_test, y_test)"
   ]
  },
  {
   "cell_type": "code",
   "execution_count": 32,
   "id": "05847003",
   "metadata": {},
   "outputs": [
    {
     "data": {
      "image/png": "[encoded data removed]",
      "text/plain": [
       "<Figure size 640x480 with 1 Axes>"
      ]
     },
     "metadata": {},
     "output_type": "display_data"
    }
   ],
   "source": [
    "train_loss_v2 = history_v2.history['loss']\n",
    "val_loss_v2 = history_v2.history['val_loss']\n",
    "\n",
    "plt.plot(range(1, len(train_loss_v2) + 1), train_loss_v2, color = 'blue', label = 'train_loss')\n",
    "plt.plot(range(1, len(val_loss_v2) + 1), val_loss_v2, color = 'red', label = 'val_loss')\n",
    "plt.legend()\n",
    "plt.show()"
   ]
  },
  {
   "cell_type": "code",
   "execution_count": 42,
   "id": "a97d9833",
   "metadata": {},
   "outputs": [],
   "source": [
    "for layer in vgg16.layers[:-4]:\n",
    "    layer.trainable = False"
   ]
  },
  {
   "cell_type": "code",
   "execution_count": 43,
   "id": "137df9b8",
   "metadata": {},
   "outputs": [
    {
     "name": "stdout",
     "output_type": "stream",
     "text": [
      "Model: \"sequential_8\"\n",
      "_________________________________________________________________\n",
      " Layer (type)                Output Shape              Param #   \n",
      "=================================================================\n",
      " vgg16 (Functional)          (None, 1, 1, 512)         14714688  \n",
      "                                                                 \n",
      " flatten_8 (Flatten)         (None, 512)               0         \n",
      "                                                                 \n",
      " dense_21 (Dense)            (None, 256)               131328    \n",
      "                                                                 \n",
      " dense_22 (Dense)            (None, 128)               32896     \n",
      "                                                                 \n",
      " dense_23 (Dense)            (None, 10)                1290      \n",
      "                                                                 \n",
      "=================================================================\n",
      "Total params: 14,880,202\n",
      "Trainable params: 7,244,938\n",
      "Non-trainable params: 7,635,264\n",
      "_________________________________________________________________\n"
     ]
    }
   ],
   "source": [
    "model_v3 = Sequential()\n",
    "model_v3.add(vgg16)\n",
    "model_v3.add(Flatten())\n",
    "model_v3.add(Dense(256, activation = 'relu'))\n",
    "model_v3.add(Dense(128, activation = 'relu'))\n",
    "model_v3.add(Dense(10, activation = 'softmax'))\n",
    "\n",
    "model_v3.summary()"
   ]
  },
  {
   "cell_type": "code",
   "execution_count": 44,
   "id": "fc5116db",
   "metadata": {},
   "outputs": [
    {
     "name": "stdout",
     "output_type": "stream",
     "text": [
      "Epoch 1/30\n",
      "1094/1094 [==============================] - 14s 12ms/step - loss: 1.1488 - acc: 0.6057 - val_loss: 0.8623 - val_acc: 0.7043\n",
      "Epoch 2/30\n",
      "1094/1094 [==============================] - 13s 12ms/step - loss: 0.7768 - acc: 0.7307 - val_loss: 0.7641 - val_acc: 0.7347\n",
      "Epoch 3/30\n",
      "1094/1094 [==============================] - 12s 11ms/step - loss: 0.6650 - acc: 0.7711 - val_loss: 0.7376 - val_acc: 0.7425\n",
      "Epoch 4/30\n",
      "1094/1094 [==============================] - 12s 11ms/step - loss: 0.5865 - acc: 0.7988 - val_loss: 0.7114 - val_acc: 0.7511\n",
      "Epoch 5/30\n",
      "1094/1094 [==============================] - 12s 11ms/step - loss: 0.5175 - acc: 0.8218 - val_loss: 0.6808 - val_acc: 0.7669\n",
      "Epoch 6/30\n",
      "1094/1094 [==============================] - 12s 11ms/step - loss: 0.4590 - acc: 0.8452 - val_loss: 0.6676 - val_acc: 0.7677\n",
      "Epoch 7/30\n",
      "1094/1094 [==============================] - 12s 11ms/step - loss: 0.4039 - acc: 0.8667 - val_loss: 0.6690 - val_acc: 0.7693\n",
      "Epoch 8/30\n",
      "1094/1094 [==============================] - 12s 11ms/step - loss: 0.3526 - acc: 0.8840 - val_loss: 0.6591 - val_acc: 0.7759\n",
      "Epoch 9/30\n",
      "1094/1094 [==============================] - 12s 11ms/step - loss: 0.3053 - acc: 0.9029 - val_loss: 0.6740 - val_acc: 0.7743\n",
      "Epoch 10/30\n",
      "1094/1094 [==============================] - 12s 11ms/step - loss: 0.2610 - acc: 0.9202 - val_loss: 0.6669 - val_acc: 0.7813\n",
      "Epoch 11/30\n",
      "1094/1094 [==============================] - 13s 12ms/step - loss: 0.2205 - acc: 0.9350 - val_loss: 0.6974 - val_acc: 0.7765\n",
      "Epoch 12/30\n",
      "1094/1094 [==============================] - 13s 12ms/step - loss: 0.1852 - acc: 0.9485 - val_loss: 0.7125 - val_acc: 0.7775\n",
      "Epoch 13/30\n",
      "1094/1094 [==============================] - 12s 11ms/step - loss: 0.1479 - acc: 0.9628 - val_loss: 0.7104 - val_acc: 0.7857\n",
      "Epoch 14/30\n",
      "1094/1094 [==============================] - 12s 11ms/step - loss: 0.1191 - acc: 0.9715 - val_loss: 0.7451 - val_acc: 0.7781\n",
      "Epoch 15/30\n",
      "1094/1094 [==============================] - 12s 11ms/step - loss: 0.0917 - acc: 0.9822 - val_loss: 0.7870 - val_acc: 0.7775\n",
      "Epoch 16/30\n",
      " 551/1094 [==============>...............] - ETA: 4s - loss: 0.0701 - acc: 0.9889"
     ]
    },
    {
     "ename": "KeyboardInterrupt",
     "evalue": "",
     "output_type": "error",
     "traceback": [
      "\u001b[1;31m---------------------------------------------------------------------------\u001b[0m",
      "\u001b[1;31mKeyboardInterrupt\u001b[0m                         Traceback (most recent call last)",
      "\u001b[1;32m~\\AppData\\Local\\Temp\\ipykernel_2280\\3635264873.py\u001b[0m in \u001b[0;36m<module>\u001b[1;34m\u001b[0m\n\u001b[0;32m      1\u001b[0m \u001b[0mmodel_v3\u001b[0m\u001b[1;33m.\u001b[0m\u001b[0mcompile\u001b[0m\u001b[1;33m(\u001b[0m\u001b[0moptimizer\u001b[0m \u001b[1;33m=\u001b[0m \u001b[0mAdam\u001b[0m\u001b[1;33m(\u001b[0m\u001b[1;36m1e-5\u001b[0m\u001b[1;33m)\u001b[0m\u001b[1;33m,\u001b[0m \u001b[0mloss\u001b[0m \u001b[1;33m=\u001b[0m \u001b[1;34m'sparse_categorical_crossentropy'\u001b[0m\u001b[1;33m,\u001b[0m \u001b[0mmetrics\u001b[0m \u001b[1;33m=\u001b[0m \u001b[1;33m[\u001b[0m\u001b[1;34m'acc'\u001b[0m\u001b[1;33m]\u001b[0m\u001b[1;33m)\u001b[0m\u001b[1;33m\u001b[0m\u001b[1;33m\u001b[0m\u001b[0m\n\u001b[1;32m----> 2\u001b[1;33m \u001b[0mhistory_v3\u001b[0m \u001b[1;33m=\u001b[0m \u001b[0mmodel_v3\u001b[0m\u001b[1;33m.\u001b[0m\u001b[0mfit\u001b[0m\u001b[1;33m(\u001b[0m\u001b[0mX_train\u001b[0m\u001b[1;33m,\u001b[0m \u001b[0my_train\u001b[0m\u001b[1;33m,\u001b[0m \u001b[0mepochs\u001b[0m \u001b[1;33m=\u001b[0m \u001b[1;36m30\u001b[0m\u001b[1;33m,\u001b[0m \u001b[0mbatch_size\u001b[0m \u001b[1;33m=\u001b[0m \u001b[1;36m32\u001b[0m\u001b[1;33m,\u001b[0m \u001b[0mvalidation_data\u001b[0m \u001b[1;33m=\u001b[0m \u001b[1;33m(\u001b[0m\u001b[0mX_val\u001b[0m\u001b[1;33m,\u001b[0m \u001b[0my_val\u001b[0m\u001b[1;33m)\u001b[0m\u001b[1;33m)\u001b[0m\u001b[1;33m\u001b[0m\u001b[1;33m\u001b[0m\u001b[0m\n\u001b[0m",
      "\u001b[1;32m~\\.conda\\envs\\meta\\lib\\site-packages\\keras\\utils\\traceback_utils.py\u001b[0m in \u001b[0;36merror_handler\u001b[1;34m(*args, **kwargs)\u001b[0m\n\u001b[0;32m     63\u001b[0m         \u001b[0mfiltered_tb\u001b[0m \u001b[1;33m=\u001b[0m \u001b[1;32mNone\u001b[0m\u001b[1;33m\u001b[0m\u001b[1;33m\u001b[0m\u001b[0m\n\u001b[0;32m     64\u001b[0m         \u001b[1;32mtry\u001b[0m\u001b[1;33m:\u001b[0m\u001b[1;33m\u001b[0m\u001b[1;33m\u001b[0m\u001b[0m\n\u001b[1;32m---> 65\u001b[1;33m             \u001b[1;32mreturn\u001b[0m \u001b[0mfn\u001b[0m\u001b[1;33m(\u001b[0m\u001b[1;33m*\u001b[0m\u001b[0margs\u001b[0m\u001b[1;33m,\u001b[0m \u001b[1;33m**\u001b[0m\u001b[0mkwargs\u001b[0m\u001b[1;33m)\u001b[0m\u001b[1;33m\u001b[0m\u001b[1;33m\u001b[0m\u001b[0m\n\u001b[0m\u001b[0;32m     66\u001b[0m         \u001b[1;32mexcept\u001b[0m \u001b[0mException\u001b[0m \u001b[1;32mas\u001b[0m \u001b[0me\u001b[0m\u001b[1;33m:\u001b[0m\u001b[1;33m\u001b[0m\u001b[1;33m\u001b[0m\u001b[0m\n\u001b[0;32m     67\u001b[0m             \u001b[0mfiltered_tb\u001b[0m \u001b[1;33m=\u001b[0m \u001b[0m_process_traceback_frames\u001b[0m\u001b[1;33m(\u001b[0m\u001b[0me\u001b[0m\u001b[1;33m.\u001b[0m\u001b[0m__traceback__\u001b[0m\u001b[1;33m)\u001b[0m\u001b[1;33m\u001b[0m\u001b[1;33m\u001b[0m\u001b[0m\n",
      "\u001b[1;32m~\\.conda\\envs\\meta\\lib\\site-packages\\keras\\engine\\training.py\u001b[0m in \u001b[0;36mfit\u001b[1;34m(self, x, y, batch_size, epochs, verbose, callbacks, validation_split, validation_data, shuffle, class_weight, sample_weight, initial_epoch, steps_per_epoch, validation_steps, validation_batch_size, validation_freq, max_queue_size, workers, use_multiprocessing)\u001b[0m\n\u001b[0;32m   1562\u001b[0m                         ):\n\u001b[0;32m   1563\u001b[0m                             \u001b[0mcallbacks\u001b[0m\u001b[1;33m.\u001b[0m\u001b[0mon_train_batch_begin\u001b[0m\u001b[1;33m(\u001b[0m\u001b[0mstep\u001b[0m\u001b[1;33m)\u001b[0m\u001b[1;33m\u001b[0m\u001b[1;33m\u001b[0m\u001b[0m\n\u001b[1;32m-> 1564\u001b[1;33m                             \u001b[0mtmp_logs\u001b[0m \u001b[1;33m=\u001b[0m \u001b[0mself\u001b[0m\u001b[1;33m.\u001b[0m\u001b[0mtrain_function\u001b[0m\u001b[1;33m(\u001b[0m\u001b[0miterator\u001b[0m\u001b[1;33m)\u001b[0m\u001b[1;33m\u001b[0m\u001b[1;33m\u001b[0m\u001b[0m\n\u001b[0m\u001b[0;32m   1565\u001b[0m                             \u001b[1;32mif\u001b[0m \u001b[0mdata_handler\u001b[0m\u001b[1;33m.\u001b[0m\u001b[0mshould_sync\u001b[0m\u001b[1;33m:\u001b[0m\u001b[1;33m\u001b[0m\u001b[1;33m\u001b[0m\u001b[0m\n\u001b[0;32m   1566\u001b[0m                                 \u001b[0mcontext\u001b[0m\u001b[1;33m.\u001b[0m\u001b[0masync_wait\u001b[0m\u001b[1;33m(\u001b[0m\u001b[1;33m)\u001b[0m\u001b[1;33m\u001b[0m\u001b[1;33m\u001b[0m\u001b[0m\n",
      "\u001b[1;32m~\\.conda\\envs\\meta\\lib\\site-packages\\tensorflow\\python\\util\\traceback_utils.py\u001b[0m in \u001b[0;36merror_handler\u001b[1;34m(*args, **kwargs)\u001b[0m\n\u001b[0;32m    148\u001b[0m     \u001b[0mfiltered_tb\u001b[0m \u001b[1;33m=\u001b[0m \u001b[1;32mNone\u001b[0m\u001b[1;33m\u001b[0m\u001b[1;33m\u001b[0m\u001b[0m\n\u001b[0;32m    149\u001b[0m     \u001b[1;32mtry\u001b[0m\u001b[1;33m:\u001b[0m\u001b[1;33m\u001b[0m\u001b[1;33m\u001b[0m\u001b[0m\n\u001b[1;32m--> 150\u001b[1;33m       \u001b[1;32mreturn\u001b[0m \u001b[0mfn\u001b[0m\u001b[1;33m(\u001b[0m\u001b[1;33m*\u001b[0m\u001b[0margs\u001b[0m\u001b[1;33m,\u001b[0m \u001b[1;33m**\u001b[0m\u001b[0mkwargs\u001b[0m\u001b[1;33m)\u001b[0m\u001b[1;33m\u001b[0m\u001b[1;33m\u001b[0m\u001b[0m\n\u001b[0m\u001b[0;32m    151\u001b[0m     \u001b[1;32mexcept\u001b[0m \u001b[0mException\u001b[0m \u001b[1;32mas\u001b[0m \u001b[0me\u001b[0m\u001b[1;33m:\u001b[0m\u001b[1;33m\u001b[0m\u001b[1;33m\u001b[0m\u001b[0m\n\u001b[0;32m    152\u001b[0m       \u001b[0mfiltered_tb\u001b[0m \u001b[1;33m=\u001b[0m \u001b[0m_process_traceback_frames\u001b[0m\u001b[1;33m(\u001b[0m\u001b[0me\u001b[0m\u001b[1;33m.\u001b[0m\u001b[0m__traceback__\u001b[0m\u001b[1;33m)\u001b[0m\u001b[1;33m\u001b[0m\u001b[1;33m\u001b[0m\u001b[0m\n",
      "\u001b[1;32m~\\.conda\\envs\\meta\\lib\\site-packages\\tensorflow\\python\\eager\\def_function.py\u001b[0m in \u001b[0;36m__call__\u001b[1;34m(self, *args, **kwds)\u001b[0m\n\u001b[0;32m    913\u001b[0m \u001b[1;33m\u001b[0m\u001b[0m\n\u001b[0;32m    914\u001b[0m       \u001b[1;32mwith\u001b[0m \u001b[0mOptionalXlaContext\u001b[0m\u001b[1;33m(\u001b[0m\u001b[0mself\u001b[0m\u001b[1;33m.\u001b[0m\u001b[0m_jit_compile\u001b[0m\u001b[1;33m)\u001b[0m\u001b[1;33m:\u001b[0m\u001b[1;33m\u001b[0m\u001b[1;33m\u001b[0m\u001b[0m\n\u001b[1;32m--> 915\u001b[1;33m         \u001b[0mresult\u001b[0m \u001b[1;33m=\u001b[0m \u001b[0mself\u001b[0m\u001b[1;33m.\u001b[0m\u001b[0m_call\u001b[0m\u001b[1;33m(\u001b[0m\u001b[1;33m*\u001b[0m\u001b[0margs\u001b[0m\u001b[1;33m,\u001b[0m \u001b[1;33m**\u001b[0m\u001b[0mkwds\u001b[0m\u001b[1;33m)\u001b[0m\u001b[1;33m\u001b[0m\u001b[1;33m\u001b[0m\u001b[0m\n\u001b[0m\u001b[0;32m    916\u001b[0m \u001b[1;33m\u001b[0m\u001b[0m\n\u001b[0;32m    917\u001b[0m       \u001b[0mnew_tracing_count\u001b[0m \u001b[1;33m=\u001b[0m \u001b[0mself\u001b[0m\u001b[1;33m.\u001b[0m\u001b[0mexperimental_get_tracing_count\u001b[0m\u001b[1;33m(\u001b[0m\u001b[1;33m)\u001b[0m\u001b[1;33m\u001b[0m\u001b[1;33m\u001b[0m\u001b[0m\n",
      "\u001b[1;32m~\\.conda\\envs\\meta\\lib\\site-packages\\tensorflow\\python\\eager\\def_function.py\u001b[0m in \u001b[0;36m_call\u001b[1;34m(self, *args, **kwds)\u001b[0m\n\u001b[0;32m    945\u001b[0m       \u001b[1;31m# In this case we have created variables on the first call, so we run the\u001b[0m\u001b[1;33m\u001b[0m\u001b[1;33m\u001b[0m\u001b[1;33m\u001b[0m\u001b[0m\n\u001b[0;32m    946\u001b[0m       \u001b[1;31m# defunned version which is guaranteed to never create variables.\u001b[0m\u001b[1;33m\u001b[0m\u001b[1;33m\u001b[0m\u001b[1;33m\u001b[0m\u001b[0m\n\u001b[1;32m--> 947\u001b[1;33m       \u001b[1;32mreturn\u001b[0m \u001b[0mself\u001b[0m\u001b[1;33m.\u001b[0m\u001b[0m_stateless_fn\u001b[0m\u001b[1;33m(\u001b[0m\u001b[1;33m*\u001b[0m\u001b[0margs\u001b[0m\u001b[1;33m,\u001b[0m \u001b[1;33m**\u001b[0m\u001b[0mkwds\u001b[0m\u001b[1;33m)\u001b[0m  \u001b[1;31m# pylint: disable=not-callable\u001b[0m\u001b[1;33m\u001b[0m\u001b[1;33m\u001b[0m\u001b[0m\n\u001b[0m\u001b[0;32m    948\u001b[0m     \u001b[1;32melif\u001b[0m \u001b[0mself\u001b[0m\u001b[1;33m.\u001b[0m\u001b[0m_stateful_fn\u001b[0m \u001b[1;32mis\u001b[0m \u001b[1;32mnot\u001b[0m \u001b[1;32mNone\u001b[0m\u001b[1;33m:\u001b[0m\u001b[1;33m\u001b[0m\u001b[1;33m\u001b[0m\u001b[0m\n\u001b[0;32m    949\u001b[0m       \u001b[1;31m# Release the lock early so that multiple threads can perform the call\u001b[0m\u001b[1;33m\u001b[0m\u001b[1;33m\u001b[0m\u001b[1;33m\u001b[0m\u001b[0m\n",
      "\u001b[1;32m~\\.conda\\envs\\meta\\lib\\site-packages\\tensorflow\\python\\eager\\function.py\u001b[0m in \u001b[0;36m__call__\u001b[1;34m(self, *args, **kwargs)\u001b[0m\n\u001b[0;32m   2495\u001b[0m        filtered_flat_args) = self._maybe_define_function(args, kwargs)\n\u001b[0;32m   2496\u001b[0m     return graph_function._call_flat(\n\u001b[1;32m-> 2497\u001b[1;33m         filtered_flat_args, captured_inputs=graph_function.captured_inputs)  # pylint: disable=protected-access\n\u001b[0m\u001b[0;32m   2498\u001b[0m \u001b[1;33m\u001b[0m\u001b[0m\n\u001b[0;32m   2499\u001b[0m   \u001b[1;33m@\u001b[0m\u001b[0mproperty\u001b[0m\u001b[1;33m\u001b[0m\u001b[1;33m\u001b[0m\u001b[0m\n",
      "\u001b[1;32m~\\.conda\\envs\\meta\\lib\\site-packages\\tensorflow\\python\\eager\\function.py\u001b[0m in \u001b[0;36m_call_flat\u001b[1;34m(self, args, captured_inputs, cancellation_manager)\u001b[0m\n\u001b[0;32m   1861\u001b[0m       \u001b[1;31m# No tape is watching; skip to running the function.\u001b[0m\u001b[1;33m\u001b[0m\u001b[1;33m\u001b[0m\u001b[1;33m\u001b[0m\u001b[0m\n\u001b[0;32m   1862\u001b[0m       return self._build_call_outputs(self._inference_function.call(\n\u001b[1;32m-> 1863\u001b[1;33m           ctx, args, cancellation_manager=cancellation_manager))\n\u001b[0m\u001b[0;32m   1864\u001b[0m     forward_backward = self._select_forward_and_backward_functions(\n\u001b[0;32m   1865\u001b[0m         \u001b[0margs\u001b[0m\u001b[1;33m,\u001b[0m\u001b[1;33m\u001b[0m\u001b[1;33m\u001b[0m\u001b[0m\n",
      "\u001b[1;32m~\\.conda\\envs\\meta\\lib\\site-packages\\tensorflow\\python\\eager\\function.py\u001b[0m in \u001b[0;36mcall\u001b[1;34m(self, ctx, args, cancellation_manager)\u001b[0m\n\u001b[0;32m    502\u001b[0m               \u001b[0minputs\u001b[0m\u001b[1;33m=\u001b[0m\u001b[0margs\u001b[0m\u001b[1;33m,\u001b[0m\u001b[1;33m\u001b[0m\u001b[1;33m\u001b[0m\u001b[0m\n\u001b[0;32m    503\u001b[0m               \u001b[0mattrs\u001b[0m\u001b[1;33m=\u001b[0m\u001b[0mattrs\u001b[0m\u001b[1;33m,\u001b[0m\u001b[1;33m\u001b[0m\u001b[1;33m\u001b[0m\u001b[0m\n\u001b[1;32m--> 504\u001b[1;33m               ctx=ctx)\n\u001b[0m\u001b[0;32m    505\u001b[0m         \u001b[1;32melse\u001b[0m\u001b[1;33m:\u001b[0m\u001b[1;33m\u001b[0m\u001b[1;33m\u001b[0m\u001b[0m\n\u001b[0;32m    506\u001b[0m           outputs = execute.execute_with_cancellation(\n",
      "\u001b[1;32m~\\.conda\\envs\\meta\\lib\\site-packages\\tensorflow\\python\\eager\\execute.py\u001b[0m in \u001b[0;36mquick_execute\u001b[1;34m(op_name, num_outputs, inputs, attrs, ctx, name)\u001b[0m\n\u001b[0;32m     53\u001b[0m     \u001b[0mctx\u001b[0m\u001b[1;33m.\u001b[0m\u001b[0mensure_initialized\u001b[0m\u001b[1;33m(\u001b[0m\u001b[1;33m)\u001b[0m\u001b[1;33m\u001b[0m\u001b[1;33m\u001b[0m\u001b[0m\n\u001b[0;32m     54\u001b[0m     tensors = pywrap_tfe.TFE_Py_Execute(ctx._handle, device_name, op_name,\n\u001b[1;32m---> 55\u001b[1;33m                                         inputs, attrs, num_outputs)\n\u001b[0m\u001b[0;32m     56\u001b[0m   \u001b[1;32mexcept\u001b[0m \u001b[0mcore\u001b[0m\u001b[1;33m.\u001b[0m\u001b[0m_NotOkStatusException\u001b[0m \u001b[1;32mas\u001b[0m \u001b[0me\u001b[0m\u001b[1;33m:\u001b[0m\u001b[1;33m\u001b[0m\u001b[1;33m\u001b[0m\u001b[0m\n\u001b[0;32m     57\u001b[0m     \u001b[1;32mif\u001b[0m \u001b[0mname\u001b[0m \u001b[1;32mis\u001b[0m \u001b[1;32mnot\u001b[0m \u001b[1;32mNone\u001b[0m\u001b[1;33m:\u001b[0m\u001b[1;33m\u001b[0m\u001b[1;33m\u001b[0m\u001b[0m\n",
      "\u001b[1;31mKeyboardInterrupt\u001b[0m: "
     ]
    }
   ],
   "source": [
    "model_v3.compile(optimizer = Adam(1e-5), loss = 'sparse_categorical_crossentropy', metrics = ['acc'])\n",
    "history_v3 = model_v3.fit(X_train, y_train, epochs = 30, batch_size = 32, validation_data = (X_val, y_val))"
   ]
  },
  {
   "cell_type": "code",
   "execution_count": 45,
   "id": "5399bc1e",
   "metadata": {},
   "outputs": [
    {
     "name": "stdout",
     "output_type": "stream",
     "text": [
      "313/313 [==============================] - 2s 7ms/step - loss: 0.8403 - acc: 0.7710\n"
     ]
    },
    {
     "data": {
      "text/plain": [
       "[0.8403467535972595, 0.7710000276565552]"
      ]
     },
     "execution_count": 45,
     "metadata": {},
     "output_type": "execute_result"
    }
   ],
   "source": [
    "model_v3.evaluate(X_test, y_test)"
   ]
  },
  {
   "cell_type": "code",
   "execution_count": 4,
   "id": "1874661a",
   "metadata": {},
   "outputs": [
    {
     "name": "stdout",
     "output_type": "stream",
     "text": [
      "Model: \"sequential\"\n",
      "_________________________________________________________________\n",
      " Layer (type)                Output Shape              Param #   \n",
      "=================================================================\n",
      " vgg16 (Functional)          (None, 1, 1, 512)         14714688  \n",
      "                                                                 \n",
      " flatten (Flatten)           (None, 512)               0         \n",
      "                                                                 \n",
      " dense (Dense)               (None, 256)               131328    \n",
      "                                                                 \n",
      " dense_1 (Dense)             (None, 10)                2570      \n",
      "                                                                 \n",
      "=================================================================\n",
      "Total params: 14,848,586\n",
      "Trainable params: 13,113,098\n",
      "Non-trainable params: 1,735,488\n",
      "_________________________________________________________________\n"
     ]
    }
   ],
   "source": [
    "vgg16 = VGG16(weights = 'imagenet', input_shape = (32,32,3), include_top = False)\n",
    "\n",
    "for layer in vgg16.layers[:-8]:\n",
    "    layer.trainable = False\n",
    "    \n",
    "model_v4 = Sequential()\n",
    "model_v4.add(vgg16)\n",
    "model_v4.add(Flatten())\n",
    "model_v4.add(Dense(256, activation = 'relu'))\n",
    "model_v4.add(Dense(10, activation = 'softmax'))\n",
    "\n",
    "model_v4.summary()"
   ]
  },
  {
   "cell_type": "code",
   "execution_count": 6,
   "id": "f5d6fbab",
   "metadata": {},
   "outputs": [
    {
     "name": "stdout",
     "output_type": "stream",
     "text": [
      "Epoch 1/30\n",
      "1094/1094 [==============================] - 23s 17ms/step - loss: 0.8653 - acc: 0.6988 - val_loss: 0.6521 - val_acc: 0.7724\n",
      "Epoch 2/30\n",
      "1094/1094 [==============================] - 17s 15ms/step - loss: 0.5428 - acc: 0.8101 - val_loss: 0.6158 - val_acc: 0.7867\n",
      "Epoch 3/30\n",
      "1094/1094 [==============================] - 16s 14ms/step - loss: 0.3870 - acc: 0.8624 - val_loss: 0.6009 - val_acc: 0.7910\n",
      "Epoch 4/30\n",
      "1094/1094 [==============================] - 16s 15ms/step - loss: 0.2664 - acc: 0.9063 - val_loss: 0.6150 - val_acc: 0.8062\n",
      "Epoch 5/30\n",
      "1094/1094 [==============================] - 17s 15ms/step - loss: 0.1703 - acc: 0.9400 - val_loss: 0.6282 - val_acc: 0.8170\n",
      "Epoch 6/30\n",
      "1094/1094 [==============================] - 16s 15ms/step - loss: 0.1068 - acc: 0.9638 - val_loss: 0.6879 - val_acc: 0.8182\n",
      "Epoch 7/30\n",
      "1094/1094 [==============================] - 16s 15ms/step - loss: 0.0780 - acc: 0.9730 - val_loss: 0.7650 - val_acc: 0.8125\n",
      "Epoch 8/30\n",
      "1094/1094 [==============================] - 18s 16ms/step - loss: 0.0605 - acc: 0.9792 - val_loss: 0.7772 - val_acc: 0.8211\n"
     ]
    }
   ],
   "source": [
    "from keras.callbacks import EarlyStopping\n",
    "es = EarlyStopping(monitor = 'val_loss', mode = 'min', patience = 5)\n",
    "model_v4.compile(optimizer = Adam(3e-5), loss = 'sparse_categorical_crossentropy', metrics = ['acc'])\n",
    "history_v4 = model_v4.fit(X_train, y_train, epochs = 30, batch_size = 32, validation_data = (X_val, y_val), callbacks = [es])"
   ]
  },
  {
   "cell_type": "code",
   "execution_count": 7,
   "id": "9320ce17",
   "metadata": {},
   "outputs": [
    {
     "name": "stdout",
     "output_type": "stream",
     "text": [
      "313/313 [==============================] - 2s 8ms/step - loss: 0.8213 - acc: 0.8132\n"
     ]
    },
    {
     "data": {
      "text/plain": [
       "[0.8212916254997253, 0.8131999969482422]"
      ]
     },
     "execution_count": 7,
     "metadata": {},
     "output_type": "execute_result"
    }
   ],
   "source": [
    "model_v4.evaluate(X_test, y_test)"
   ]
  },
  {
   "cell_type": "code",
   "execution_count": 8,
   "id": "aa61c2ee",
   "metadata": {},
   "outputs": [
    {
     "data": {
      "image/png": "[encoded data removed]",
      "text/plain": [
       "<Figure size 640x480 with 1 Axes>"
      ]
     },
     "metadata": {},
     "output_type": "display_data"
    }
   ],
   "source": [
    "import matplotlib.pyplot as plt\n",
    "\n",
    "train_loss_v4 = history_v4.history['loss']\n",
    "val_loss_v4 = history_v4.history['val_loss']\n",
    "\n",
    "plt.plot(range(1, len(train_loss_v4) + 1), train_loss_v4, color = 'blue', label = 'train_loss')\n",
    "plt.plot(range(1, len(val_loss_v4) + 1), val_loss_v4, color = 'red', label = 'val_loss')\n",
    "plt.legend()\n",
    "plt.show()"
   ]
  },
  {
   "cell_type": "code",
   "execution_count": 9,
   "id": "37d26d53",
   "metadata": {},
   "outputs": [],
   "source": [
    "(X_train, y_train), (X_test, y_test) = cifar10.load_data()\n",
    "\n",
    "X_mean = np.mean(X_train, axis = (0, 1, 2)) \n",
    "X_std = np.std(X_train, axis = (0, 1, 2))\n",
    "\n",
    "X_train = (X_train - X_mean) / X_std\n",
    "X_test = (X_test - X_mean) / X_std\n",
    "\n",
    "from sklearn.model_selection import train_test_split\n",
    "X_train, X_val, y_train, y_val = train_test_split(X_train, y_train, test_size = 0.3, random_state = 100)"
   ]
  },
  {
   "cell_type": "code",
   "execution_count": 11,
   "id": "0d78dfc1",
   "metadata": {},
   "outputs": [
    {
     "name": "stdout",
     "output_type": "stream",
     "text": [
      "Model: \"sequential_2\"\n",
      "_________________________________________________________________\n",
      " Layer (type)                Output Shape              Param #   \n",
      "=================================================================\n",
      " vgg16 (Functional)          (None, 1, 1, 512)         14714688  \n",
      "                                                                 \n",
      " flatten_2 (Flatten)         (None, 512)               0         \n",
      "                                                                 \n",
      " dense_3 (Dense)             (None, 256)               131328    \n",
      "                                                                 \n",
      " dense_4 (Dense)             (None, 128)               32896     \n",
      "                                                                 \n",
      " dense_5 (Dense)             (None, 10)                1290      \n",
      "                                                                 \n",
      "=================================================================\n",
      "Total params: 14,880,202\n",
      "Trainable params: 9,604,746\n",
      "Non-trainable params: 5,275,456\n",
      "_________________________________________________________________\n"
     ]
    }
   ],
   "source": [
    "vgg16 = VGG16(weights = 'imagenet', input_shape = (32,32,3), include_top = False)\n",
    "\n",
    "for layer in vgg16.layers[:-6]:\n",
    "    layer.trainable = False\n",
    "    \n",
    "model_v5 = Sequential()\n",
    "model_v5.add(vgg16)\n",
    "model_v5.add(Flatten())\n",
    "model_v5.add(Dense(256, activation = 'relu'))\n",
    "model_v5.add(Dense(128, activation = 'relu'))\n",
    "model_v5.add(Dense(10, activation = 'softmax'))\n",
    "\n",
    "model_v5.summary()"
   ]
  },
  {
   "cell_type": "code",
   "execution_count": 12,
   "id": "fe04e35a",
   "metadata": {},
   "outputs": [
    {
     "name": "stdout",
     "output_type": "stream",
     "text": [
      "Epoch 1/30\n",
      "1094/1094 [==============================] - 15s 13ms/step - loss: 0.9519 - acc: 0.6759 - val_loss: 0.7330 - val_acc: 0.7503\n",
      "Epoch 2/30\n",
      "1094/1094 [==============================] - 14s 12ms/step - loss: 0.6671 - acc: 0.7761 - val_loss: 0.7422 - val_acc: 0.7575\n",
      "Epoch 3/30\n",
      "1094/1094 [==============================] - 14s 12ms/step - loss: 0.5512 - acc: 0.8145 - val_loss: 0.6463 - val_acc: 0.7866\n",
      "Epoch 4/30\n",
      "1094/1094 [==============================] - 15s 13ms/step - loss: 0.4448 - acc: 0.8470 - val_loss: 0.7090 - val_acc: 0.7735\n",
      "Epoch 5/30\n",
      "1094/1094 [==============================] - 15s 14ms/step - loss: 0.3628 - acc: 0.8763 - val_loss: 0.6624 - val_acc: 0.8031\n",
      "Epoch 6/30\n",
      "1094/1094 [==============================] - 14s 12ms/step - loss: 0.2911 - acc: 0.9015 - val_loss: 0.8117 - val_acc: 0.7839\n",
      "Epoch 7/30\n",
      "1094/1094 [==============================] - 13s 12ms/step - loss: 0.2351 - acc: 0.9209 - val_loss: 0.7737 - val_acc: 0.7922\n",
      "Epoch 8/30\n",
      "1094/1094 [==============================] - 13s 12ms/step - loss: 0.1916 - acc: 0.9359 - val_loss: 0.7658 - val_acc: 0.8002\n"
     ]
    }
   ],
   "source": [
    "from keras.callbacks import EarlyStopping\n",
    "es = EarlyStopping(monitor = 'val_loss', mode = 'min', patience = 5)\n",
    "model_v5.compile(optimizer = Adam(3e-4), loss = 'sparse_categorical_crossentropy', metrics = ['acc'])\n",
    "history_v5 = model_v5.fit(X_train, y_train, epochs = 30, batch_size = 32, validation_data = (X_val, y_val), callbacks = [es])"
   ]
  },
  {
   "cell_type": "code",
   "execution_count": 13,
   "id": "91ef62cb",
   "metadata": {},
   "outputs": [
    {
     "name": "stdout",
     "output_type": "stream",
     "text": [
      "313/313 [==============================] - 2s 6ms/step - loss: 0.8369 - acc: 0.7862\n"
     ]
    },
    {
     "data": {
      "text/plain": [
       "[0.836876630783081, 0.7861999869346619]"
      ]
     },
     "execution_count": 13,
     "metadata": {},
     "output_type": "execute_result"
    }
   ],
   "source": [
    "model_v5.evaluate(X_test, y_test)"
   ]
  },
  {
   "cell_type": "code",
   "execution_count": 14,
   "id": "2b2a88c5",
   "metadata": {},
   "outputs": [
    {
     "data": {
      "image/png": "[encoded data removed]",
      "text/plain": [
       "<Figure size 640x480 with 1 Axes>"
      ]
     },
     "metadata": {},
     "output_type": "display_data"
    }
   ],
   "source": [
    "import matplotlib.pyplot as plt\n",
    "\n",
    "train_loss_v5 = history_v5.history['loss']\n",
    "val_loss_v5 = history_v5.history['val_loss']\n",
    "\n",
    "plt.plot(range(1, len(train_loss_v5) + 1), train_loss_v5, color = 'blue', label = 'train_loss')\n",
    "plt.plot(range(1, len(val_loss_v5) + 1), val_loss_v5, color = 'red', label = 'val_loss')\n",
    "plt.legend()\n",
    "plt.show()"
   ]
  },
  {
   "cell_type": "code",
   "execution_count": 18,
   "id": "9e0a9ca4",
   "metadata": {},
   "outputs": [],
   "source": [
    "(X_train, y_train), (X_test, y_test) = cifar10.load_data()\n",
    "\n",
    "X_mean = np.mean(X_train, axis = (0, 1, 2)) \n",
    "X_std = np.std(X_train, axis = (0, 1, 2))\n",
    "\n",
    "X_train = (X_train - X_mean) / X_std\n",
    "X_test = (X_test - X_mean) / X_std\n",
    "\n",
    "from sklearn.model_selection import train_test_split\n",
    "X_train, X_val, y_train, y_val = train_test_split(X_train, y_train, test_size = 0.3, random_state = 100)"
   ]
  },
  {
   "cell_type": "code",
   "execution_count": 19,
   "id": "08853da4",
   "metadata": {},
   "outputs": [
    {
     "name": "stdout",
     "output_type": "stream",
     "text": [
      "Model: \"sequential_4\"\n",
      "_________________________________________________________________\n",
      " Layer (type)                Output Shape              Param #   \n",
      "=================================================================\n",
      " vgg16 (Functional)          (None, 1, 1, 512)         14714688  \n",
      "                                                                 \n",
      " flatten_4 (Flatten)         (None, 512)               0         \n",
      "                                                                 \n",
      " dense_9 (Dense)             (None, 256)               131328    \n",
      "                                                                 \n",
      " dense_10 (Dense)            (None, 128)               32896     \n",
      "                                                                 \n",
      " dense_11 (Dense)            (None, 10)                1290      \n",
      "                                                                 \n",
      "=================================================================\n",
      "Total params: 14,880,202\n",
      "Trainable params: 4,885,130\n",
      "Non-trainable params: 9,995,072\n",
      "_________________________________________________________________\n"
     ]
    }
   ],
   "source": [
    "vgg16 = VGG16(weights = 'imagenet', input_shape = (32,32,3), include_top = False)\n",
    "\n",
    "for layer in vgg16.layers[:-3]:\n",
    "    layer.trainable = False\n",
    "    \n",
    "model_v6 = Sequential()\n",
    "model_v6.add(vgg16)\n",
    "model_v6.add(Flatten())\n",
    "model_v6.add(Dense(256, activation = 'relu'))\n",
    "model_v6.add(Dense(128, activation = 'relu'))\n",
    "model_v6.add(Dense(10, activation = 'softmax'))\n",
    "\n",
    "model_v6.summary()"
   ]
  },
  {
   "cell_type": "code",
   "execution_count": 20,
   "id": "df78e04c",
   "metadata": {},
   "outputs": [
    {
     "name": "stdout",
     "output_type": "stream",
     "text": [
      "Epoch 1/30\n",
      "1094/1094 [==============================] - 12s 10ms/step - loss: 1.2806 - acc: 0.5641 - val_loss: 0.9442 - val_acc: 0.6741\n",
      "Epoch 2/30\n",
      "1094/1094 [==============================] - 11s 10ms/step - loss: 0.8698 - acc: 0.6990 - val_loss: 0.8459 - val_acc: 0.7083\n",
      "Epoch 3/30\n",
      "1094/1094 [==============================] - 11s 10ms/step - loss: 0.7731 - acc: 0.7328 - val_loss: 0.8181 - val_acc: 0.7153\n",
      "Epoch 4/30\n",
      "1094/1094 [==============================] - 11s 10ms/step - loss: 0.7058 - acc: 0.7540 - val_loss: 0.7694 - val_acc: 0.7315\n",
      "Epoch 5/30\n",
      "1094/1094 [==============================] - 11s 10ms/step - loss: 0.6527 - acc: 0.7743 - val_loss: 0.7543 - val_acc: 0.7367\n",
      "Epoch 6/30\n",
      "1094/1094 [==============================] - 11s 10ms/step - loss: 0.6056 - acc: 0.7937 - val_loss: 0.7397 - val_acc: 0.7413\n",
      "Epoch 7/30\n",
      "1094/1094 [==============================] - 13s 12ms/step - loss: 0.5622 - acc: 0.8086 - val_loss: 0.7254 - val_acc: 0.7471\n",
      "Epoch 8/30\n",
      "1094/1094 [==============================] - 12s 11ms/step - loss: 0.5248 - acc: 0.8233 - val_loss: 0.7254 - val_acc: 0.7453\n",
      "Epoch 9/30\n",
      "1094/1094 [==============================] - 12s 11ms/step - loss: 0.4870 - acc: 0.8381 - val_loss: 0.7081 - val_acc: 0.7517\n",
      "Epoch 10/30\n",
      "1094/1094 [==============================] - 12s 11ms/step - loss: 0.4533 - acc: 0.8498 - val_loss: 0.7175 - val_acc: 0.7524\n",
      "Epoch 11/30\n",
      "1094/1094 [==============================] - 12s 11ms/step - loss: 0.4189 - acc: 0.8633 - val_loss: 0.7008 - val_acc: 0.7561\n",
      "Epoch 12/30\n",
      "1094/1094 [==============================] - 13s 11ms/step - loss: 0.3867 - acc: 0.8764 - val_loss: 0.7105 - val_acc: 0.7544\n",
      "Epoch 13/30\n",
      "1094/1094 [==============================] - 13s 12ms/step - loss: 0.3559 - acc: 0.8884 - val_loss: 0.7059 - val_acc: 0.7582\n",
      "Epoch 14/30\n",
      "1094/1094 [==============================] - 12s 11ms/step - loss: 0.3252 - acc: 0.9023 - val_loss: 0.7042 - val_acc: 0.7629\n",
      "Epoch 15/30\n",
      "1094/1094 [==============================] - 12s 11ms/step - loss: 0.2954 - acc: 0.9141 - val_loss: 0.7167 - val_acc: 0.7573\n",
      "Epoch 16/30\n",
      "1094/1094 [==============================] - 12s 11ms/step - loss: 0.2691 - acc: 0.9233 - val_loss: 0.7194 - val_acc: 0.7605\n"
     ]
    }
   ],
   "source": [
    "from keras.callbacks import EarlyStopping\n",
    "es = EarlyStopping(monitor = 'val_loss', mode = 'min', patience = 5)\n",
    "model_v6.compile(optimizer = Adam(1e-5), loss = 'sparse_categorical_crossentropy', metrics = ['acc'])\n",
    "history_v6 = model_v6.fit(X_train, y_train, epochs = 30, batch_size = 32, validation_data = (X_val, y_val), callbacks = [es])"
   ]
  },
  {
   "cell_type": "code",
   "execution_count": 21,
   "id": "26b47c31",
   "metadata": {},
   "outputs": [
    {
     "name": "stdout",
     "output_type": "stream",
     "text": [
      "313/313 [==============================] - 2s 6ms/step - loss: 0.7614 - acc: 0.7555\n"
     ]
    },
    {
     "data": {
      "text/plain": [
       "[0.7613947987556458, 0.7555000185966492]"
      ]
     },
     "execution_count": 21,
     "metadata": {},
     "output_type": "execute_result"
    }
   ],
   "source": [
    "model_v6.evaluate(X_test, y_test)"
   ]
  },
  {
   "cell_type": "code",
   "execution_count": 22,
   "id": "9e94a70e",
   "metadata": {},
   "outputs": [],
   "source": [
    "(X_train, y_train), (X_test, y_test) = cifar10.load_data()\n",
    "\n",
    "X_mean = np.mean(X_train, axis = (0, 1, 2)) \n",
    "X_std = np.std(X_train, axis = (0, 1, 2))\n",
    "\n",
    "X_train = (X_train - X_mean) / X_std\n",
    "X_test = (X_test - X_mean) / X_std\n",
    "\n",
    "from sklearn.model_selection import train_test_split\n",
    "X_train, X_val, y_train, y_val = train_test_split(X_train, y_train, test_size = 0.3, random_state = 100)"
   ]
  },
  {
   "cell_type": "code",
   "execution_count": 23,
   "id": "109fb21a",
   "metadata": {},
   "outputs": [
    {
     "name": "stdout",
     "output_type": "stream",
     "text": [
      "Model: \"sequential_5\"\n",
      "_________________________________________________________________\n",
      " Layer (type)                Output Shape              Param #   \n",
      "=================================================================\n",
      " vgg16 (Functional)          (None, 1, 1, 512)         14714688  \n",
      "                                                                 \n",
      " flatten_5 (Flatten)         (None, 512)               0         \n",
      "                                                                 \n",
      " dense_12 (Dense)            (None, 256)               131328    \n",
      "                                                                 \n",
      " dense_13 (Dense)            (None, 128)               32896     \n",
      "                                                                 \n",
      " dense_14 (Dense)            (None, 10)                1290      \n",
      "                                                                 \n",
      "=================================================================\n",
      "Total params: 14,880,202\n",
      "Trainable params: 14,620,042\n",
      "Non-trainable params: 260,160\n",
      "_________________________________________________________________\n"
     ]
    }
   ],
   "source": [
    "vgg16 = VGG16(weights = 'imagenet', input_shape = (32,32,3), include_top = False)\n",
    "\n",
    "for layer in vgg16.layers[:-12]:\n",
    "    layer.trainable = False\n",
    "    \n",
    "model_v7 = Sequential()\n",
    "model_v7.add(vgg16)\n",
    "model_v7.add(Flatten())\n",
    "model_v7.add(Dense(256, activation = 'relu'))\n",
    "model_v7.add(Dense(128, activation = 'relu'))\n",
    "model_v7.add(Dense(10, activation = 'softmax'))\n",
    "\n",
    "model_v7.summary()"
   ]
  },
  {
   "cell_type": "code",
   "execution_count": 24,
   "id": "ba333fd6",
   "metadata": {},
   "outputs": [
    {
     "name": "stdout",
     "output_type": "stream",
     "text": [
      "Epoch 1/30\n",
      "1094/1094 [==============================] - 20s 18ms/step - loss: 0.9868 - acc: 0.6564 - val_loss: 0.7153 - val_acc: 0.7546\n",
      "Epoch 2/30\n",
      "1094/1094 [==============================] - 21s 19ms/step - loss: 0.6093 - acc: 0.7893 - val_loss: 0.6098 - val_acc: 0.7887\n",
      "Epoch 3/30\n",
      "1094/1094 [==============================] - 21s 19ms/step - loss: 0.4887 - acc: 0.8307 - val_loss: 0.5778 - val_acc: 0.8001\n",
      "Epoch 4/30\n",
      "1094/1094 [==============================] - 20s 18ms/step - loss: 0.3935 - acc: 0.8650 - val_loss: 0.5496 - val_acc: 0.8092\n",
      "Epoch 5/30\n",
      "1094/1094 [==============================] - 21s 19ms/step - loss: 0.3165 - acc: 0.8896 - val_loss: 0.5165 - val_acc: 0.8254\n",
      "Epoch 6/30\n",
      "1094/1094 [==============================] - 21s 19ms/step - loss: 0.2527 - acc: 0.9137 - val_loss: 0.5547 - val_acc: 0.8211\n",
      "Epoch 7/30\n",
      "1094/1094 [==============================] - 21s 19ms/step - loss: 0.1908 - acc: 0.9355 - val_loss: 0.6184 - val_acc: 0.8184\n",
      "Epoch 8/30\n",
      "1094/1094 [==============================] - 21s 19ms/step - loss: 0.1374 - acc: 0.9542 - val_loss: 0.5805 - val_acc: 0.8345\n",
      "Epoch 9/30\n",
      "1094/1094 [==============================] - 22s 20ms/step - loss: 0.1019 - acc: 0.9661 - val_loss: 0.6244 - val_acc: 0.8297\n",
      "Epoch 10/30\n",
      "1094/1094 [==============================] - 24s 22ms/step - loss: 0.0721 - acc: 0.9770 - val_loss: 0.6558 - val_acc: 0.8295\n"
     ]
    }
   ],
   "source": [
    "from keras.callbacks import EarlyStopping\n",
    "es = EarlyStopping(monitor = 'val_loss', mode = 'min', patience = 5)\n",
    "model_v7.compile(optimizer = Adam(1e-5), loss = 'sparse_categorical_crossentropy', metrics = ['acc'])\n",
    "history_v7 = model_v7.fit(X_train, y_train, epochs = 30, batch_size = 32, validation_data = (X_val, y_val), callbacks = [es])"
   ]
  },
  {
   "cell_type": "code",
   "execution_count": 25,
   "id": "409375bf",
   "metadata": {},
   "outputs": [
    {
     "name": "stdout",
     "output_type": "stream",
     "text": [
      "313/313 [==============================] - 3s 8ms/step - loss: 0.6990 - acc: 0.8255\n"
     ]
    },
    {
     "data": {
      "text/plain": [
       "[0.6990190744400024, 0.8255000114440918]"
      ]
     },
     "execution_count": 25,
     "metadata": {},
     "output_type": "execute_result"
    }
   ],
   "source": [
    "model_v7.evaluate(X_test, y_test)"
   ]
  },
  {
   "cell_type": "code",
   "execution_count": 26,
   "id": "537f26d7",
   "metadata": {},
   "outputs": [],
   "source": [
    "(X_train, y_train), (X_test, y_test) = cifar10.load_data()\n",
    "\n",
    "X_mean = np.mean(X_train, axis = (0, 1, 2)) \n",
    "X_std = np.std(X_train, axis = (0, 1, 2))\n",
    "\n",
    "X_train = (X_train - X_mean) / X_std\n",
    "X_test = (X_test - X_mean) / X_std\n",
    "\n",
    "from sklearn.model_selection import train_test_split\n",
    "X_train, X_val, y_train, y_val = train_test_split(X_train, y_train, test_size = 0.3, random_state = 100)"
   ]
  },
  {
   "cell_type": "code",
   "execution_count": 32,
   "id": "a0f42361",
   "metadata": {},
   "outputs": [
    {
     "name": "stdout",
     "output_type": "stream",
     "text": [
      "Model: \"sequential_8\"\n",
      "_________________________________________________________________\n",
      " Layer (type)                Output Shape              Param #   \n",
      "=================================================================\n",
      " vgg16 (Functional)          (None, 1, 1, 512)         14714688  \n",
      "                                                                 \n",
      " flatten_8 (Flatten)         (None, 512)               0         \n",
      "                                                                 \n",
      " dense_21 (Dense)            (None, 256)               131328    \n",
      "                                                                 \n",
      " dense_22 (Dense)            (None, 128)               32896     \n",
      "                                                                 \n",
      " dense_23 (Dense)            (None, 10)                1290      \n",
      "                                                                 \n",
      "=================================================================\n",
      "Total params: 14,880,202\n",
      "Trainable params: 14,880,202\n",
      "Non-trainable params: 0\n",
      "_________________________________________________________________\n"
     ]
    }
   ],
   "source": [
    "vgg16 = VGG16(weights = 'imagenet', input_shape = (32,32,3), include_top = False)\n",
    "    \n",
    "model_v8 = Sequential()\n",
    "model_v8.add(vgg16)\n",
    "model_v8.add(Flatten())\n",
    "model_v8.add(Dense(256, activation = 'relu'))\n",
    "model_v8.add(Dense(128, activation = 'relu'))\n",
    "model_v8.add(Dense(10, activation = 'softmax'))\n",
    "\n",
    "model_v8.summary()"
   ]
  },
  {
   "cell_type": "code",
   "execution_count": 28,
   "id": "5356d898",
   "metadata": {},
   "outputs": [
    {
     "name": "stdout",
     "output_type": "stream",
     "text": [
      "Epoch 1/30\n",
      "1094/1094 [==============================] - 30s 27ms/step - loss: 0.9743 - acc: 0.6622 - val_loss: 0.7242 - val_acc: 0.7493\n",
      "Epoch 2/30\n",
      "1094/1094 [==============================] - 28s 26ms/step - loss: 0.6044 - acc: 0.7906 - val_loss: 0.6603 - val_acc: 0.7721\n",
      "Epoch 3/30\n",
      "1094/1094 [==============================] - 28s 26ms/step - loss: 0.4855 - acc: 0.8310 - val_loss: 0.5513 - val_acc: 0.8134\n",
      "Epoch 4/30\n",
      "1094/1094 [==============================] - 28s 26ms/step - loss: 0.3931 - acc: 0.8648 - val_loss: 0.5461 - val_acc: 0.8133\n",
      "Epoch 5/30\n",
      "1094/1094 [==============================] - 28s 26ms/step - loss: 0.3186 - acc: 0.8907 - val_loss: 0.5160 - val_acc: 0.8268\n",
      "Epoch 6/30\n",
      "1094/1094 [==============================] - 28s 26ms/step - loss: 0.2509 - acc: 0.9141 - val_loss: 0.5354 - val_acc: 0.8277\n",
      "Epoch 7/30\n",
      "1094/1094 [==============================] - 28s 26ms/step - loss: 0.1955 - acc: 0.9335 - val_loss: 0.5168 - val_acc: 0.8387\n",
      "Epoch 8/30\n",
      "1094/1094 [==============================] - 28s 25ms/step - loss: 0.1456 - acc: 0.9513 - val_loss: 0.5909 - val_acc: 0.8353\n",
      "Epoch 9/30\n",
      "1094/1094 [==============================] - 29s 26ms/step - loss: 0.1111 - acc: 0.9633 - val_loss: 0.7048 - val_acc: 0.8151\n",
      "Epoch 10/30\n",
      "1094/1094 [==============================] - 29s 26ms/step - loss: 0.0824 - acc: 0.9736 - val_loss: 0.6409 - val_acc: 0.8349\n"
     ]
    }
   ],
   "source": [
    "from keras.callbacks import EarlyStopping\n",
    "es = EarlyStopping(monitor = 'val_loss', mode = 'min', patience = 5)\n",
    "model_v8.compile(optimizer = Adam(1e-5), loss = 'sparse_categorical_crossentropy', metrics = ['acc'])\n",
    "history_v8 = model_v8.fit(X_train, y_train, epochs = 30, batch_size = 32, validation_data = (X_val, y_val), callbacks = [es])"
   ]
  },
  {
   "cell_type": "code",
   "execution_count": 29,
   "id": "4c9ad7cd",
   "metadata": {},
   "outputs": [
    {
     "name": "stdout",
     "output_type": "stream",
     "text": [
      "313/313 [==============================] - 2s 8ms/step - loss: 0.6959 - acc: 0.8252\n"
     ]
    },
    {
     "data": {
      "text/plain": [
       "[0.6958824992179871, 0.8252000212669373]"
      ]
     },
     "execution_count": 29,
     "metadata": {},
     "output_type": "execute_result"
    }
   ],
   "source": [
    "model_v8.evaluate(X_test, y_test)"
   ]
  },
  {
   "cell_type": "code",
   "execution_count": 2,
   "id": "5ad518b9",
   "metadata": {},
   "outputs": [],
   "source": [
    "(X_train, y_train), (X_test, y_test) = cifar10.load_data()\n",
    "\n",
    "X_mean = np.mean(X_train, axis = (0, 1, 2)) \n",
    "X_std = np.std(X_train, axis = (0, 1, 2))\n",
    "\n",
    "X_train = (X_train - X_mean) / X_std\n",
    "X_test = (X_test - X_mean) / X_std\n",
    "\n",
    "from sklearn.model_selection import train_test_split\n",
    "X_train, X_val, y_train, y_val = train_test_split(X_train, y_train, test_size = 0.3, random_state = 100)"
   ]
  },
  {
   "cell_type": "code",
   "execution_count": 3,
   "id": "8b78cb1f",
   "metadata": {},
   "outputs": [
    {
     "name": "stdout",
     "output_type": "stream",
     "text": [
      "Model: \"sequential\"\n",
      "_________________________________________________________________\n",
      " Layer (type)                Output Shape              Param #   \n",
      "=================================================================\n",
      " vgg16 (Functional)          (None, 1, 1, 512)         14714688  \n",
      "                                                                 \n",
      " flatten (Flatten)           (None, 512)               0         \n",
      "                                                                 \n",
      " dense (Dense)               (None, 256)               131328    \n",
      "                                                                 \n",
      " dense_1 (Dense)             (None, 128)               32896     \n",
      "                                                                 \n",
      " dense_2 (Dense)             (None, 10)                1290      \n",
      "                                                                 \n",
      "=================================================================\n",
      "Total params: 14,880,202\n",
      "Trainable params: 14,880,202\n",
      "Non-trainable params: 0\n",
      "_________________________________________________________________\n"
     ]
    }
   ],
   "source": [
    "vgg16 = VGG16(weights = None, input_shape = (32,32,3), include_top = False)\n",
    "    \n",
    "model_v9 = Sequential()\n",
    "model_v9.add(vgg16)\n",
    "model_v9.add(Flatten())\n",
    "model_v9.add(Dense(256, activation = 'relu'))\n",
    "model_v9.add(Dense(128, activation = 'relu'))\n",
    "model_v9.add(Dense(10, activation = 'softmax'))\n",
    "\n",
    "model_v9.summary()"
   ]
  },
  {
   "cell_type": "code",
   "execution_count": 4,
   "id": "7977785e",
   "metadata": {},
   "outputs": [
    {
     "name": "stdout",
     "output_type": "stream",
     "text": [
      "Epoch 1/30\n",
      "1094/1094 [==============================] - 30s 24ms/step - loss: 1.9831 - acc: 0.2422 - val_loss: 1.8198 - val_acc: 0.2958\n",
      "Epoch 2/30\n",
      "1094/1094 [==============================] - 24s 22ms/step - loss: 1.7297 - acc: 0.3485 - val_loss: 1.6301 - val_acc: 0.3845\n",
      "Epoch 3/30\n",
      "1094/1094 [==============================] - 24s 22ms/step - loss: 1.6031 - acc: 0.3956 - val_loss: 1.5426 - val_acc: 0.4157\n",
      "Epoch 4/30\n",
      "1094/1094 [==============================] - 24s 22ms/step - loss: 1.5094 - acc: 0.4362 - val_loss: 1.4731 - val_acc: 0.4520\n",
      "Epoch 5/30\n",
      "1094/1094 [==============================] - 25s 23ms/step - loss: 1.4342 - acc: 0.4712 - val_loss: 1.3782 - val_acc: 0.4889\n",
      "Epoch 6/30\n",
      "1094/1094 [==============================] - 25s 23ms/step - loss: 1.3595 - acc: 0.4999 - val_loss: 1.3200 - val_acc: 0.5097\n",
      "Epoch 7/30\n",
      "1094/1094 [==============================] - 24s 22ms/step - loss: 1.3034 - acc: 0.5244 - val_loss: 1.2768 - val_acc: 0.5313\n",
      "Epoch 8/30\n",
      "1094/1094 [==============================] - 25s 22ms/step - loss: 1.2538 - acc: 0.5436 - val_loss: 1.2454 - val_acc: 0.5446\n",
      "Epoch 9/30\n",
      "1094/1094 [==============================] - 24s 22ms/step - loss: 1.2081 - acc: 0.5606 - val_loss: 1.2141 - val_acc: 0.5563\n",
      "Epoch 10/30\n",
      "1094/1094 [==============================] - 25s 23ms/step - loss: 1.1701 - acc: 0.5734 - val_loss: 1.1634 - val_acc: 0.5756\n",
      "Epoch 11/30\n",
      "1094/1094 [==============================] - 25s 23ms/step - loss: 1.1262 - acc: 0.5903 - val_loss: 1.1520 - val_acc: 0.5782\n",
      "Epoch 12/30\n",
      "1094/1094 [==============================] - 24s 22ms/step - loss: 1.0886 - acc: 0.6050 - val_loss: 1.1147 - val_acc: 0.5925\n",
      "Epoch 13/30\n",
      "1094/1094 [==============================] - 25s 23ms/step - loss: 1.0537 - acc: 0.6163 - val_loss: 1.1518 - val_acc: 0.5787\n",
      "Epoch 14/30\n",
      "1094/1094 [==============================] - 25s 23ms/step - loss: 1.0198 - acc: 0.6296 - val_loss: 1.0692 - val_acc: 0.6100\n",
      "Epoch 15/30\n",
      "1094/1094 [==============================] - 25s 23ms/step - loss: 0.9873 - acc: 0.6416 - val_loss: 1.0395 - val_acc: 0.6249\n",
      "Epoch 16/30\n",
      "1094/1094 [==============================] - 25s 23ms/step - loss: 0.9482 - acc: 0.6561 - val_loss: 1.0327 - val_acc: 0.6259\n",
      "Epoch 17/30\n",
      "1094/1094 [==============================] - 24s 22ms/step - loss: 0.9136 - acc: 0.6694 - val_loss: 1.1447 - val_acc: 0.6049\n",
      "Epoch 18/30\n",
      "1094/1094 [==============================] - 24s 22ms/step - loss: 0.8791 - acc: 0.6823 - val_loss: 1.0024 - val_acc: 0.6378\n",
      "Epoch 19/30\n",
      "1094/1094 [==============================] - 25s 23ms/step - loss: 0.8388 - acc: 0.6962 - val_loss: 1.0293 - val_acc: 0.6397\n",
      "Epoch 20/30\n",
      "1094/1094 [==============================] - 25s 23ms/step - loss: 0.8012 - acc: 0.7119 - val_loss: 0.9737 - val_acc: 0.6544\n",
      "Epoch 21/30\n",
      "1094/1094 [==============================] - 25s 23ms/step - loss: 0.7566 - acc: 0.7277 - val_loss: 1.0002 - val_acc: 0.6535\n",
      "Epoch 22/30\n",
      "1094/1094 [==============================] - 25s 22ms/step - loss: 0.7187 - acc: 0.7409 - val_loss: 0.9769 - val_acc: 0.6596\n",
      "Epoch 23/30\n",
      "1094/1094 [==============================] - 25s 23ms/step - loss: 0.6813 - acc: 0.7570 - val_loss: 0.9786 - val_acc: 0.6678\n",
      "Epoch 24/30\n",
      "1094/1094 [==============================] - 25s 23ms/step - loss: 0.6306 - acc: 0.7746 - val_loss: 1.0452 - val_acc: 0.6515\n",
      "Epoch 25/30\n",
      "1094/1094 [==============================] - 25s 23ms/step - loss: 0.5874 - acc: 0.7890 - val_loss: 1.0562 - val_acc: 0.6592\n"
     ]
    }
   ],
   "source": [
    "from keras.callbacks import EarlyStopping\n",
    "es = EarlyStopping(monitor = 'val_loss', mode = 'min', patience = 5)\n",
    "model_v9.compile(optimizer = Adam(1e-5), loss = 'sparse_categorical_crossentropy', metrics = ['acc'])\n",
    "history_v9 = model_v9.fit(X_train, y_train, epochs = 30, batch_size = 32, validation_data = (X_val, y_val), callbacks = [es])"
   ]
  },
  {
   "cell_type": "code",
   "execution_count": 6,
   "id": "bf612140",
   "metadata": {},
   "outputs": [
    {
     "name": "stdout",
     "output_type": "stream",
     "text": [
      "313/313 [==============================] - 2s 7ms/step - loss: 1.0651 - acc: 0.6557\n"
     ]
    },
    {
     "data": {
      "text/plain": [
       "[1.0650970935821533, 0.6557000279426575]"
      ]
     },
     "execution_count": 6,
     "metadata": {},
     "output_type": "execute_result"
    }
   ],
   "source": [
    "model_v9.evaluate(X_test, y_test)"
   ]
  },
  {
   "cell_type": "code",
   "execution_count": null,
   "id": "dd6384c1",
   "metadata": {},
   "outputs": [],
   "source": []
  }
 ],
 "metadata": {
  "kernelspec": {
   "display_name": "Python 3 (ipykernel)",
   "language": "python",
   "name": "python3"
  },
  "language_info": {
   "codemirror_mode": {
    "name": "ipython",
    "version": 3
   },
   "file_extension": ".py",
   "mimetype": "text/x-python",
   "name": "python",
   "nbconvert_exporter": "python",
   "pygments_lexer": "ipython3",
   "version": "3.7.16"
  }
 },
 "nbformat": 4,
 "nbformat_minor": 5
}
